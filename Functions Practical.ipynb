{
 "cells": [
  {
   "cell_type": "code",
   "execution_count": 1,
   "id": "3fa3f5ed-0504-4d97-8655-f1ed9eeb5dce",
   "metadata": {},
   "outputs": [
    {
     "name": "stdout",
     "output_type": "stream",
     "text": [
      "30\n"
     ]
    }
   ],
   "source": [
    "#1. Write a Python function that takes a list of numbers as input and returns the sum of all even numbers in the list.\n",
    "\n",
    "numbers = [1,2,3,4,5,6,7,8,9,10]\n",
    "def sum_of_num(list_of_no):\n",
    "  total = 0\n",
    "  for number in list_of_no:\n",
    "    if number%2 == 0:\n",
    "      total += number\n",
    "  return total\n",
    "print(sum_of_num(numbers))\n"
   ]
  },
  {
   "cell_type": "code",
   "execution_count": 9,
   "id": "73a1d0ea-12d8-4ea3-8571-fa7917a9f3f1",
   "metadata": {},
   "outputs": [
    {
     "name": "stdin",
     "output_type": "stream",
     "text": [
      "enter a word Arijeet\n"
     ]
    },
    {
     "data": {
      "text/plain": [
       "'teejirA'"
      ]
     },
     "execution_count": 9,
     "metadata": {},
     "output_type": "execute_result"
    }
   ],
   "source": [
    "#2. Create a Python function that accepts a string and returns the reverse of that string.\n",
    "\n",
    "user_given_string = input(\"enter a word\")\n",
    "def reverse_str (data):\n",
    "  reversed_str = \"\"\n",
    "  lenght_of_given_str = len(data)\n",
    "\n",
    "  for d in data[::-1]:\n",
    "    reversed_str += d\n",
    "  return reversed_str\n",
    "\n",
    "reverse_str(user_given_string)"
   ]
  },
  {
   "cell_type": "code",
   "execution_count": 5,
   "id": "313ae6a4-3e1f-4f56-bd85-d4a21040f36e",
   "metadata": {},
   "outputs": [
    {
     "data": {
      "text/plain": [
       "[1, 4, 9, 16, 25]"
      ]
     },
     "execution_count": 5,
     "metadata": {},
     "output_type": "execute_result"
    }
   ],
   "source": [
    "#3 Implement a Python function that takes a list of integers and returns a new list containing the squares of each number.\n",
    "\n",
    "list_of_integers = [1,2,3,4,5]\n",
    "def square_any_number(data):\n",
    "  square_number_list = []\n",
    "\n",
    "  for d in data:\n",
    "    sqr = d**2\n",
    "    square_number_list.append(sqr)\n",
    "\n",
    "  return square_number_list\n",
    "square_any_number(list_of_integers)"
   ]
  },
  {
   "cell_type": "code",
   "execution_count": 8,
   "id": "7fee1bf5-a59c-40ad-96e1-396491815109",
   "metadata": {},
   "outputs": [
    {
     "name": "stdin",
     "output_type": "stream",
     "text": [
      "Enter any number from 1 to 200:  101\n"
     ]
    },
    {
     "name": "stdout",
     "output_type": "stream",
     "text": [
      "101 is a Prime number\n"
     ]
    }
   ],
   "source": [
    "#4 Write a Python function that checks if a given number is prime or not from 1 to 200.\n",
    "\n",
    "def is_prime(n):\n",
    "    if n < 2:\n",
    "        return False  \n",
    "    for i in range(2, n):  \n",
    "        if n % i == 0:\n",
    "            return False  \n",
    "    return True  \n",
    "\n",
    "number = int(input(\"Enter any number from 1 to 200: \"))\n",
    "\n",
    "if is_prime(number):\n",
    "    print(f\"{number} is a Prime number\")\n",
    "else:\n",
    "    print(f\"{number} is NOT a Prime number\")"
   ]
  },
  {
   "cell_type": "code",
   "execution_count": 10,
   "id": "e0df7b62-468b-4b77-8f7d-9a826639d82f",
   "metadata": {},
   "outputs": [
    {
     "name": "stdout",
     "output_type": "stream",
     "text": [
      "0\n",
      "1\n",
      "1\n",
      "2\n",
      "3\n",
      "5\n",
      "8\n",
      "13\n",
      "21\n",
      "34\n"
     ]
    }
   ],
   "source": [
    "#5 Create an iterator class in Python that generates the Fibonacci sequence up to a specified number of terms.\n",
    "\n",
    "class FibonacciIterator:\n",
    "    def __init__(self, n):\n",
    "        self.n = n                \n",
    "        self.a, self.b = 0, 1     \n",
    "        self.count = 0            \n",
    "\n",
    "    def __iter__(self):\n",
    "        return self\n",
    "\n",
    "    def __next__(self):\n",
    "        if self.count >= self.n:\n",
    "            raise StopIteration  \n",
    "        fib = self.a\n",
    "        self.a, self.b = self.b, self.a + self.b\n",
    "        self.count += 1\n",
    "        return fib\n",
    "\n",
    "\n",
    "n = 10                            \n",
    "fib_iterator = FibonacciIterator(n)\n",
    "for num in fib_iterator:\n",
    "    print(num)"
   ]
  },
  {
   "cell_type": "code",
   "execution_count": 18,
   "id": "bbd94a2e-da66-4340-a7a3-6bd36c073a8b",
   "metadata": {},
   "outputs": [
    {
     "name": "stdout",
     "output_type": "stream",
     "text": [
      "1\n",
      "2\n",
      "4\n",
      "8\n",
      "16\n",
      "32\n"
     ]
    }
   ],
   "source": [
    "#6 Write a generator function in Python that yields the powers of 2 up to a given exponent.\n",
    "\n",
    "def powers_of_two(n):\n",
    "    for i in range(n + 1):\n",
    "        yield 2 ** i\n",
    "for power in powers_of_two(5):\n",
    "    print(power)"
   ]
  },
  {
   "cell_type": "code",
   "execution_count": 22,
   "id": "f2dfeffb-79bc-4254-84c1-72dbdb48024e",
   "metadata": {},
   "outputs": [
    {
     "name": "stdout",
     "output_type": "stream",
     "text": [
      "Error: The file 'file.txt' was not found.\n"
     ]
    }
   ],
   "source": [
    "#7 Implement a generator function that reads a file line by line and yields each line as a string.\n",
    "\n",
    "def read_file_lines(filename):\n",
    "    try:\n",
    "        with open(filename, \"r\") as file:\n",
    "            for line in file:\n",
    "                yield line.strip()  \n",
    "\n",
    "\n",
    "    except FileNotFoundError:      \n",
    "        print(f\"Error: The file '{filename}' was not found.\")\n",
    "    except IOError:\n",
    "        print(f\"Error: An error occurred while reading the file '{filename}'.\")\n",
    "for line in read_file_lines(\"file.txt\"):\n",
    "    print(line)\n"
   ]
  },
  {
   "cell_type": "code",
   "execution_count": 23,
   "id": "4b650214-2757-4180-8037-32e41e6fd808",
   "metadata": {},
   "outputs": [
    {
     "name": "stdout",
     "output_type": "stream",
     "text": [
      "[('banana', 1), ('cherry', 2), ('apple', 3)]\n"
     ]
    }
   ],
   "source": [
    "#8 Use a lambda function in Python to sort a list of tuples based on the second element of each tuple.\n",
    "\n",
    "data = [(\"apple\", 3), (\"banana\", 1), (\"cherry\", 2)]\n",
    "sorted_data = sorted(data, key=lambda x: x[1])\n",
    "print(sorted_data)"
   ]
  },
  {
   "cell_type": "code",
   "execution_count": 24,
   "id": "7d39da91-9618-4c7d-a87f-bd2d28c7da11",
   "metadata": {},
   "outputs": [
    {
     "name": "stdout",
     "output_type": "stream",
     "text": [
      "[32.0, 68.0, 98.6, 212.0]\n"
     ]
    }
   ],
   "source": [
    "#9. Write a Python program that uses map() to convert a list of temperatures from Celsius to Fahrenheit\n",
    "celsius_to_fahrenheit = lambda c: (c * 9/5) + 32\n",
    "celsius_temps = [0, 20, 37, 100]\n",
    "fahrenheit_temps = list(map(celsius_to_fahrenheit, celsius_temps))\n",
    "\n",
    "print(fahrenheit_temps)"
   ]
  },
  {
   "cell_type": "code",
   "execution_count": 25,
   "id": "9e3bb643-4594-4b4b-80fb-de2987b2fb34",
   "metadata": {},
   "outputs": [
    {
     "name": "stdout",
     "output_type": "stream",
     "text": [
      "rjt\n"
     ]
    }
   ],
   "source": [
    "#10. Create a Python program that uses filter() to remove all the vowels from a given string.\n",
    "is_not_vowel = lambda char: char.lower() not in \"aeiou\"\n",
    "text = \"Arijeet\"\n",
    "filtered_text = \"\".join(filter(is_not_vowel, text))\n",
    "\n",
    "print(filtered_text)"
   ]
  },
  {
   "cell_type": "code",
   "execution_count": 28,
   "id": "7ba280de-e88d-41f7-9b28-dc3fd58b5d22",
   "metadata": {},
   "outputs": [
    {
     "name": "stdout",
     "output_type": "stream",
     "text": [
      "[(34587, 163.8), (98762, 284.0), (77226, 108.85000000000001), (88112, 84.97)]\n"
     ]
    }
   ],
   "source": [
    "#11. Imagine an accounting routine used in a book shop. It works on a list with sublists, which look like this:\n",
    "orders = [\n",
    "    (34587, \"Learning Python, Mark Lutz\", 4, 40.95),\n",
    "    (98762, \"Programming Python, Mark Lutz\", 5, 56.80),\n",
    "    (77226, \"Head First Python, Paul Barry\", 3, 32.95),\n",
    "    (88112, \"Einführung in Python3, Bernd Klein\", 3, 24.99),\n",
    "]\n",
    "\n",
    "order_totals = list(map(lambda order: (order[0], order[2] * order[3] + (10 if order[2] * order[3] < 100 else 0)), orders))\n",
    "print(order_totals)\n"
   ]
  },
  {
   "cell_type": "code",
   "execution_count": null,
   "id": "0cc652ba-4dce-4bb2-b778-2812c1a92c6c",
   "metadata": {},
   "outputs": [],
   "source": []
  }
 ],
 "metadata": {
  "kernelspec": {
   "display_name": "Python 3 (ipykernel)",
   "language": "python",
   "name": "python3"
  },
  "language_info": {
   "codemirror_mode": {
    "name": "ipython",
    "version": 3
   },
   "file_extension": ".py",
   "mimetype": "text/x-python",
   "name": "python",
   "nbconvert_exporter": "python",
   "pygments_lexer": "ipython3",
   "version": "3.13.5"
  }
 },
 "nbformat": 4,
 "nbformat_minor": 5
}
